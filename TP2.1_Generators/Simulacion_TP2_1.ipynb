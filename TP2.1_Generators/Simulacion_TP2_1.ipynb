{
  "nbformat": 4,
  "nbformat_minor": 0,
  "metadata": {
    "colab": {
      "name": "Simulacion-TP2-1.ipynb",
      "provenance": [],
      "collapsed_sections": []
    },
    "kernelspec": {
      "name": "python3",
      "display_name": "Python 3"
    }
  },
  "cells": [
    {
      "cell_type": "code",
      "metadata": {
        "id": "DiHKliv6zf2T",
        "colab_type": "code",
        "colab": {}
      },
      "source": [
        "import matplotlib as plt\n",
        "import seaborn as sn\n",
        "import numpy as np\n",
        "import pandas as pd\n",
        "import scipy as sp\n",
        "import scipy.stats as st"
      ],
      "execution_count": 0,
      "outputs": []
    },
    {
      "cell_type": "markdown",
      "metadata": {
        "id": "dJQqWzkk2Gr-",
        "colab_type": "text"
      },
      "source": [
        "Configure the length of every generated sequence"
      ]
    },
    {
      "cell_type": "code",
      "metadata": {
        "id": "x-Lu5RoE2Gr_",
        "colab_type": "code",
        "colab": {}
      },
      "source": [
        "iterations = 1000"
      ],
      "execution_count": 0,
      "outputs": []
    },
    {
      "cell_type": "markdown",
      "metadata": {
        "id": "EMF7Ns-v2MI1",
        "colab_type": "text"
      },
      "source": [
        "###Middle part of the square method\n"
      ]
    },
    {
      "cell_type": "markdown",
      "metadata": {
        "id": "ZHlUy5pU2krd",
        "colab_type": "text"
      },
      "source": [
        "Seed needed to start generator"
      ]
    },
    {
      "cell_type": "code",
      "metadata": {
        "id": "-F47Ol2J2jvp",
        "colab_type": "code",
        "colab": {}
      },
      "source": [
        "seed = 1931"
      ],
      "execution_count": 0,
      "outputs": []
    },
    {
      "cell_type": "markdown",
      "metadata": {
        "id": "IKqBP8YQ2-0C",
        "colab_type": "text"
      },
      "source": [
        "Random numbers generator function"
      ]
    },
    {
      "cell_type": "code",
      "metadata": {
        "id": "sQqLFcqv3FVM",
        "colab_type": "code",
        "colab": {}
      },
      "source": [
        "def random_numbers_generator(seed):\n",
        "    random_numbers = []\n",
        "    \n",
        "    for i in range(iterations):\n",
        "        random_numbers.append(seed)\n",
        "        seed = str(seed**2)\n",
        "        while len(seed) < 8:\n",
        "            seed = \"0\" + seed\n",
        "        seed = int(seed[2:6])\n",
        "    \n",
        "    return random_numbers"
      ],
      "execution_count": 0,
      "outputs": []
    },
    {
      "cell_type": "code",
      "metadata": {
        "id": "wroQALmVleBb",
        "colab_type": "code",
        "colab": {}
      },
      "source": [
        "def map_random_numbers_generator(random_numbers):\n",
        "   return list(map(lambda x: x / 10000, random_numbers))"
      ],
      "execution_count": 0,
      "outputs": []
    },
    {
      "cell_type": "markdown",
      "metadata": {
        "id": "TitCEWaX3Gn_",
        "colab_type": "text"
      },
      "source": [
        "Plot of the generator"
      ]
    },
    {
      "cell_type": "code",
      "metadata": {
        "id": "cETJXYhG3HYU",
        "colab_type": "code",
        "colab": {}
      },
      "source": [
        "sn.set()\n",
        "x = np.arange(0,len(random_numbers_generator(seed)))\n",
        "#sn.scatterplot(x, random_numbers_generator(seed))\n",
        "#sn.distplot( random_numbers_generator(seed), bins=10, kde=False)\n"
      ],
      "execution_count": 0,
      "outputs": []
    },
    {
      "cell_type": "markdown",
      "metadata": {
        "id": "IQ9AHvqsJB7w",
        "colab_type": "text"
      },
      "source": [
        "### General functions and configuration variables for every Linear Congruential Generator"
      ]
    },
    {
      "cell_type": "markdown",
      "metadata": {
        "id": "oEN3nIaJ2GsD",
        "colab_type": "text"
      },
      "source": [
        "Curried function that returns the following number in the sequence by using the LCG formula"
      ]
    },
    {
      "cell_type": "code",
      "metadata": {
        "id": "NtvpzJjK2GsD",
        "colab_type": "code",
        "colab": {}
      },
      "source": [
        "def mixed_congruential_generator(m, a, c):\n",
        "    def specific_variant(xn):\n",
        "        return (xn * a + c) % m\n",
        "    return specific_variant"
      ],
      "execution_count": 0,
      "outputs": []
    },
    {
      "cell_type": "markdown",
      "metadata": {
        "id": "IR7hD_0g2GsG",
        "colab_type": "text"
      },
      "source": [
        "Function that generates the sequence of pseudo random numbers using an specific LCG "
      ]
    },
    {
      "cell_type": "code",
      "metadata": {
        "tags": [
          "outputPrepend"
        ],
        "id": "0j_OraQ72GsH",
        "colab_type": "code",
        "colab": {}
      },
      "source": [
        "def generate_random_nums(n_iters, seed, specific_LGC_variant):\n",
        "    random_nums_list = [(specific_LGC_variant(seed))]\n",
        "    for i in range(n_iters - 1):\n",
        "        random_nums_list.append(specific_LGC_variant(random_nums_list[i]))\n",
        "    return random_nums_list"
      ],
      "execution_count": 0,
      "outputs": []
    },
    {
      "cell_type": "markdown",
      "metadata": {
        "id": "VqJbylkj2GsK",
        "colab_type": "text"
      },
      "source": [
        "Function that divide each number by m, so we get numbers ranging from zero to one"
      ]
    },
    {
      "cell_type": "code",
      "metadata": {
        "id": "e-R19Cws2GsL",
        "colab_type": "code",
        "colab": {}
      },
      "source": [
        "def map_sequence_to_uniform_distribution(random_nums,m):\n",
        "    return list(map(lambda x: x / m, random_nums))"
      ],
      "execution_count": 0,
      "outputs": []
    },
    {
      "cell_type": "markdown",
      "metadata": {
        "id": "2_6Uso562GsO",
        "colab_type": "text"
      },
      "source": [
        "### Specific configurations for each Linear Congruential Generator"
      ]
    },
    {
      "cell_type": "markdown",
      "metadata": {
        "id": "_wwjAuDk2GsO",
        "colab_type": "text"
      },
      "source": [
        "Setup the variables required for a custom linear congruential generator"
      ]
    },
    {
      "cell_type": "code",
      "metadata": {
        "id": "dc2ku0r9eJeB",
        "colab_type": "code",
        "colab": {}
      },
      "source": [
        "s = 4346345754"
      ],
      "execution_count": 0,
      "outputs": []
    },
    {
      "cell_type": "code",
      "metadata": {
        "id": "HJ4m0vMj2GsP",
        "colab_type": "code",
        "colab": {}
      },
      "source": [
        "m_custom = 2 ** 64\n",
        "a_custom = 18446744073709551557\n",
        "c_custom = 0"
      ],
      "execution_count": 0,
      "outputs": []
    },
    {
      "cell_type": "code",
      "metadata": {
        "id": "6D10L20teGYV",
        "colab_type": "code",
        "colab": {}
      },
      "source": [
        "m_ansi_c =  6075\n",
        "a_ansi_c =  106\n",
        "c_ansi_c = 1283"
      ],
      "execution_count": 0,
      "outputs": []
    },
    {
      "cell_type": "code",
      "metadata": {
        "id": "F-Rq8V-Wd_gi",
        "colab_type": "code",
        "colab": {}
      },
      "source": [
        "c_randu = 12345\n",
        "m_randu = 2 ** 48\n",
        "a_randu = 1103515245"
      ],
      "execution_count": 0,
      "outputs": []
    },
    {
      "cell_type": "markdown",
      "metadata": {
        "id": "WE5vBw_XfJQZ",
        "colab_type": "text"
      },
      "source": [
        "Map sequences to uniform distributions"
      ]
    },
    {
      "cell_type": "code",
      "metadata": {
        "tags": [
          "outputPrepend"
        ],
        "id": "3VyQ6BPe2GsV",
        "colab_type": "code",
        "colab": {}
      },
      "source": [
        "mapped_random_nums_custom = map_sequence_to_uniform_distribution(\n",
        "    generate_random_nums(n_iters=iterations, seed=s,specific_LGC_variant=mixed_congruential_generator(m_custom, a_custom, c_custom))\n",
        "    ,m_custom\n",
        ")\n",
        "\n",
        "mapped_random_nums_randu = map_sequence_to_uniform_distribution(\n",
        "    generate_random_nums(n_iters=iterations, seed=s,specific_LGC_variant=mixed_congruential_generator(m_randu, a_randu, c_randu))\n",
        "    ,m_randu\n",
        ")\n",
        "\n",
        "mapped_random_nums_ansi_c = map_sequence_to_uniform_distribution(\n",
        "    generate_random_nums(n_iters=iterations, seed=s,specific_LGC_variant=mixed_congruential_generator(m_ansi_c, a_ansi_c, c_ansi_c))\n",
        "    ,m_ansi_c\n",
        ")\n",
        "\n",
        "uniform_mersenne_twister = np.random.uniform(size=iterations)\n",
        "\n",
        "mapped_random_nums_middle_square = map_random_numbers_generator(\n",
        "    random_numbers_generator(seed)\n",
        ")"
      ],
      "execution_count": 0,
      "outputs": []
    },
    {
      "cell_type": "markdown",
      "metadata": {
        "id": "ZfKnDUy5AqcU",
        "colab_type": "text"
      },
      "source": [
        "Show distributions"
      ]
    },
    {
      "cell_type": "code",
      "metadata": {
        "id": "zkiIj5MOAvrH",
        "colab_type": "code",
        "outputId": "3f3dc7cb-884e-48ba-db0d-3a501e42d64c",
        "colab": {
          "base_uri": "https://localhost:8080/",
          "height": 285
        }
      },
      "source": [
        "sn.distplot(mapped_random_nums_custom)"
      ],
      "execution_count": 0,
      "outputs": [
        {
          "output_type": "execute_result",
          "data": {
            "text/plain": [
              "<matplotlib.axes._subplots.AxesSubplot at 0x7f33988b59e8>"
            ]
          },
          "metadata": {
            "tags": []
          },
          "execution_count": 904
        },
        {
          "output_type": "display_data",
          "data": {
            "image/png": "[encoded data removed]",
            "text/plain": [
              "<Figure size 432x288 with 1 Axes>"
            ]
          },
          "metadata": {
            "tags": []
          }
        }
      ]
    },
    {
      "cell_type": "code",
      "metadata": {
        "id": "BlZh1pxjA9DK",
        "colab_type": "code",
        "outputId": "fd808322-b868-4ecd-c03e-a24829e71226",
        "colab": {
          "base_uri": "https://localhost:8080/",
          "height": 285
        }
      },
      "source": [
        "sn.distplot(mapped_random_nums_ansi_c)"
      ],
      "execution_count": 0,
      "outputs": [
        {
          "output_type": "execute_result",
          "data": {
            "text/plain": [
              "<matplotlib.axes._subplots.AxesSubplot at 0x7fb161ee4c50>"
            ]
          },
          "metadata": {
            "tags": []
          },
          "execution_count": 18
        },
        {
          "output_type": "display_data",
          "data": {
            "image/png": "[encoded data removed]",
            "text/plain": [
              "<Figure size 432x288 with 1 Axes>"
            ]
          },
          "metadata": {
            "tags": []
          }
        }
      ]
    },
    {
      "cell_type": "code",
      "metadata": {
        "id": "QctJo-BdBFiQ",
        "colab_type": "code",
        "outputId": "9a204417-7a3c-4c46-8b3d-43bb0d49b17d",
        "colab": {
          "base_uri": "https://localhost:8080/",
          "height": 285
        }
      },
      "source": [
        "sn.distplot(mapped_random_nums_randu)"
      ],
      "execution_count": 0,
      "outputs": [
        {
          "output_type": "execute_result",
          "data": {
            "text/plain": [
              "<matplotlib.axes._subplots.AxesSubplot at 0x7fb161ee4b00>"
            ]
          },
          "metadata": {
            "tags": []
          },
          "execution_count": 19
        },
        {
          "output_type": "display_data",
          "data": {
            "image/png": "[encoded data removed]",
            "text/plain": [
              "<Figure size 432x288 with 1 Axes>"
            ]
          },
          "metadata": {
            "tags": []
          }
        }
      ]
    },
    {
      "cell_type": "code",
      "metadata": {
        "id": "QVz3YRMyCTAu",
        "colab_type": "code",
        "outputId": "b5cb23df-49ee-4bb9-a5f5-c9935e508ca4",
        "colab": {
          "base_uri": "https://localhost:8080/",
          "height": 285
        }
      },
      "source": [
        "sn.distplot(uniform_mersenne_twister)"
      ],
      "execution_count": 0,
      "outputs": [
        {
          "output_type": "execute_result",
          "data": {
            "text/plain": [
              "<matplotlib.axes._subplots.AxesSubplot at 0x7f33986a54e0>"
            ]
          },
          "metadata": {
            "tags": []
          },
          "execution_count": 903
        },
        {
          "output_type": "display_data",
          "data": {
            "image/png": "[encoded data removed]",
            "text/plain": [
              "<Figure size 432x288 with 1 Axes>"
            ]
          },
          "metadata": {
            "tags": []
          }
        }
      ]
    },
    {
      "cell_type": "code",
      "metadata": {
        "id": "9eItmuf-BU-t",
        "colab_type": "code",
        "outputId": "ed547657-f134-4be6-97af-3ed7dc78c407",
        "colab": {
          "base_uri": "https://localhost:8080/",
          "height": 285
        }
      },
      "source": [
        "sn.distplot(mapped_random_nums_middle_square)"
      ],
      "execution_count": 0,
      "outputs": [
        {
          "output_type": "execute_result",
          "data": {
            "text/plain": [
              "<matplotlib.axes._subplots.AxesSubplot at 0x7fb1618bc550>"
            ]
          },
          "metadata": {
            "tags": []
          },
          "execution_count": 21
        },
        {
          "output_type": "display_data",
          "data": {
            "image/png": "[encoded data removed]",
            "text/plain": [
              "<Figure size 432x288 with 1 Axes>"
            ]
          },
          "metadata": {
            "tags": []
          }
        }
      ]
    },
    {
      "cell_type": "markdown",
      "metadata": {
        "id": "mWLXo_kmjhRY",
        "colab_type": "text"
      },
      "source": [
        "Autocorrelation test"
      ]
    },
    {
      "cell_type": "code",
      "metadata": {
        "id": "mdpjNoWjjjkl",
        "colab_type": "code",
        "colab": {}
      },
      "source": [
        "def autocorrelation_test(series, significance_level):\n",
        "  index = 2\n",
        "  amplitude = 5\n",
        "  acum = 0\n",
        "  M = int(np.trunc((len(series)-index)/amplitude) - 1)\n",
        "\n",
        "  for k in range(M + 1):\n",
        "    first = series[index+k*amplitude]\n",
        "    second = series[index + amplitude * (k + 1)]\n",
        "    acum += first * second\n",
        "\n",
        "  dp = acum * (1/(M+1)) \n",
        "\n",
        "  dp_std = np.sqrt(13*M+7)/(12*(M+1))\n",
        "  \n",
        "  z_empirical = (dp - 0.25) / dp_std\n",
        "  print(z_empirical)\n",
        "  z_theoretical = st.norm.ppf(1 - significance_level/2)\n",
        "  \n",
        "\n",
        "  return -z_theoretical <= z_empirical <= z_theoretical\n"
      ],
      "execution_count": 0,
      "outputs": []
    },
    {
      "cell_type": "markdown",
      "metadata": {
        "id": "Dd_OZPV8jdCR",
        "colab_type": "text"
      },
      "source": [
        "Chi Square test"
      ]
    },
    {
      "cell_type": "code",
      "metadata": {
        "id": "TpGJSqK--Y-F",
        "colab_type": "code",
        "colab": {}
      },
      "source": [
        "def chi_square_test(series, significance_level):\n",
        "  n_bins = 10\n",
        "  N = series.count()\n",
        "  observed = series.value_counts(normalize=False, bins=n_bins)\n",
        "  expected = np.repeat(a=N/n_bins, repeats=n_bins)\n",
        "\n",
        "  x2 = sum(((observed - expected) ** 2) / expected)\n",
        "  x2_critic = sp.stats.chi2.ppf(1 - (significance_level / 2), n_bins - 1)\n",
        "\n",
        "  return x2 < x2_critic"
      ],
      "execution_count": 0,
      "outputs": []
    },
    {
      "cell_type": "markdown",
      "metadata": {
        "id": "vqnBuElFSYtR",
        "colab_type": "text"
      },
      "source": [
        "KS test\n",
        "\n"
      ]
    },
    {
      "cell_type": "code",
      "metadata": {
        "id": "apWa86aW3az5",
        "colab_type": "code",
        "colab": {}
      },
      "source": [
        "def ks_test(series, significance_level):\n",
        "  indexed_sorted_series = list(zip(np.arange(1000), series.sort_values()))\n",
        "  n = series.count()\n",
        "\n",
        "  D_plus = max([abs((i / n) - fx) for i, fx in indexed_sorted_series])\n",
        "  D_minus = max([abs(fx - ((i - 1) / n)) for i, fx in indexed_sorted_series])\n",
        "\n",
        "  D = max(D_plus, D_minus)\n",
        "  print(D)\n",
        "  D_critic = sp.stats.ksone.ppf(1 - (significance_level / 2), n)\n",
        "\n",
        "  return D < D_critic"
      ],
      "execution_count": 0,
      "outputs": []
    },
    {
      "cell_type": "markdown",
      "metadata": {
        "id": "yHkwGn8bQKRD",
        "colab_type": "text"
      },
      "source": [
        "Runs above and below mean test"
      ]
    },
    {
      "cell_type": "code",
      "metadata": {
        "id": "cE6T1Maggd14",
        "colab_type": "code",
        "outputId": "b57dc117-bca8-4ca2-db8d-841087d783d3",
        "colab": {
          "base_uri": "https://localhost:8080/",
          "height": 34
        }
      },
      "source": [
        "sp.stats.norm.ppf(0.025)"
      ],
      "execution_count": 0,
      "outputs": [
        {
          "output_type": "execute_result",
          "data": {
            "text/plain": [
              "-1.9599639845400545"
            ]
          },
          "metadata": {
            "tags": []
          },
          "execution_count": 25
        }
      ]
    },
    {
      "cell_type": "code",
      "metadata": {
        "id": "MZPzfq5r-ndj",
        "colab_type": "code",
        "colab": {}
      },
      "source": [
        "def get_runs(boolean_mask):\n",
        "  b = 0 \n",
        "  last = None\n",
        "  for x in boolean_mask:\n",
        "    if (x != last):\n",
        "      b += 1\n",
        "    last = x\n",
        "  \n",
        "  return b"
      ],
      "execution_count": 0,
      "outputs": []
    },
    {
      "cell_type": "code",
      "metadata": {
        "id": "3bnqCu0SPuKE",
        "colab_type": "code",
        "colab": {}
      },
      "source": [
        "def runs_above_and_below_mean_test(series, significance_level):\n",
        "  mean = series.mean()\n",
        "  N = series.count()\n",
        "  n1 = series[lambda x: x >= mean].count() # above mean\n",
        "  n2 = series[lambda x: x < mean].count() # below mean\n",
        "\n",
        "  if n2 <= 20: \n",
        "    return False\n",
        "\n",
        "  b = get_runs(series.gt(mean))\n",
        "\n",
        "  b_mean = ((2 * n1 * n2) / N) + (1 / 2)\n",
        "  b_var = (2 * n1 * n2 * (2 * n1 * n2 - N)) / ((N ** 2) * (N - 1))\n",
        "  b_std = b_var ** (1/2)\n",
        "  \n",
        "  Z = (b - b_mean) / b_std\n",
        "  print(Z)\n",
        "  Z_critic = sp.stats.norm.ppf(1 - (significance_level / 2))\n",
        "\n",
        "  return -Z_critic <= Z <= Z_critic\n"
      ],
      "execution_count": 0,
      "outputs": []
    },
    {
      "cell_type": "markdown",
      "metadata": {
        "id": "Jhu6U36HeuZJ",
        "colab_type": "text"
      },
      "source": [
        "Setup series"
      ]
    },
    {
      "cell_type": "code",
      "metadata": {
        "id": "zI371dAyQ5zu",
        "colab_type": "code",
        "colab": {}
      },
      "source": [
        "distributions_to_test = [\"LCG Custom\", \"LCG Randu\", \"LCG Ansi C\", \"Mersenne Twister\", \"Middle Square\"]"
      ],
      "execution_count": 0,
      "outputs": []
    },
    {
      "cell_type": "code",
      "metadata": {
        "id": "ri-ptZDxSpM6",
        "colab_type": "code",
        "colab": {}
      },
      "source": [
        "tests = [\"Chi Square\", \"KS\", \"Autocorrelation\" ,\"Runs\"]"
      ],
      "execution_count": 0,
      "outputs": []
    },
    {
      "cell_type": "code",
      "metadata": {
        "id": "90w5gTeySqyx",
        "colab_type": "code",
        "colab": {}
      },
      "source": [
        "lcg_custom = pd.Series(mapped_random_nums_custom)\n",
        "lcg_randu  = pd.Series(mapped_random_nums_randu)\n",
        "lcg_ansi_c  = pd.Series(mapped_random_nums_ansi_c)\n",
        "uniform = pd.Series(uniform_mersenne_twister)\n",
        "middle_square = pd.Series(mapped_random_nums_middle_square)"
      ],
      "execution_count": 0,
      "outputs": []
    },
    {
      "cell_type": "markdown",
      "metadata": {
        "id": "-mwFSi4oQcQr",
        "colab_type": "text"
      },
      "source": [
        "Chi square test results"
      ]
    },
    {
      "cell_type": "code",
      "metadata": {
        "id": "qh-yizivF2Pn",
        "colab_type": "code",
        "colab": {}
      },
      "source": [
        "chi_square_tests = [\n",
        "  chi_square_test(lcg_custom, significance_level=0.05),\n",
        "  chi_square_test(lcg_ansi_c, significance_level=0.05),\n",
        "  chi_square_test(lcg_randu, significance_level=0.05),\n",
        "  chi_square_test(uniform, significance_level=0.05),\n",
        "  chi_square_test(middle_square,significance_level=0.05)\n",
        "]"
      ],
      "execution_count": 0,
      "outputs": []
    },
    {
      "cell_type": "markdown",
      "metadata": {
        "id": "a-SOeTnJQjiZ",
        "colab_type": "text"
      },
      "source": [
        "KS test results"
      ]
    },
    {
      "cell_type": "code",
      "metadata": {
        "id": "7N1aQ8JIDsCN",
        "colab_type": "code",
        "outputId": "9cd9b430-c6a4-4eb0-d9e7-90be4490b7a5",
        "colab": {
          "base_uri": "https://localhost:8080/",
          "height": 105
        }
      },
      "source": [
        "ks_tests = [\n",
        "  ks_test(lcg_custom, significance_level=0.05),\n",
        "  ks_test(lcg_ansi_c, significance_level=0.05),\n",
        "  ks_test(lcg_randu, significance_level=0.05),\n",
        "  ks_test(uniform, significance_level=0.05),\n",
        "  ks_test(middle_square, significance_level=0.05)\n",
        "]"
      ],
      "execution_count": 0,
      "outputs": [
        {
          "output_type": "stream",
          "text": [
            "0.02716001523827971\n",
            "0.021567901234567893\n",
            "0.0378483241292088\n",
            "0.014070764667540758\n",
            "0.9929\n"
          ],
          "name": "stdout"
        }
      ]
    },
    {
      "cell_type": "markdown",
      "metadata": {
        "id": "loWqL3ASYJa9",
        "colab_type": "text"
      },
      "source": [
        "Autocorrelation test results"
      ]
    },
    {
      "cell_type": "code",
      "metadata": {
        "id": "RdbF7M0wYLLc",
        "colab_type": "code",
        "outputId": "675265b9-5403-431c-9ec9-29e9364c030b",
        "colab": {
          "base_uri": "https://localhost:8080/",
          "height": 105
        }
      },
      "source": [
        "autocorrelation_tests = [\n",
        "  autocorrelation_test(lcg_custom, significance_level=0.05),\n",
        "  autocorrelation_test(lcg_ansi_c, significance_level=0.05),\n",
        "  autocorrelation_test(lcg_randu, significance_level=0.05),\n",
        "  autocorrelation_test(uniform, significance_level=0.05),\n",
        "  autocorrelation_test(middle_square, significance_level=0.05)\n",
        "]"
      ],
      "execution_count": 0,
      "outputs": [
        {
          "output_type": "stream",
          "text": [
            "1.1194525177401697\n",
            "0.9763702578270428\n",
            "2.861113916492277\n",
            "1.3283965795543637\n",
            "-11.75114888824592\n"
          ],
          "name": "stdout"
        }
      ]
    },
    {
      "cell_type": "markdown",
      "metadata": {
        "id": "dooquUUqBysG",
        "colab_type": "text"
      },
      "source": [
        "Runs above and below mean test results"
      ]
    },
    {
      "cell_type": "code",
      "metadata": {
        "id": "cw6NwE_oTsj-",
        "colab_type": "code",
        "outputId": "7b514e3c-780c-4ba0-a7fa-d7d19b88b267",
        "colab": {
          "base_uri": "https://localhost:8080/",
          "height": 105
        }
      },
      "source": [
        "runs_above_and_below_mean_tests = [\n",
        "  runs_above_and_below_mean_test(lcg_custom, significance_level=0.05),\n",
        "  runs_above_and_below_mean_test(lcg_ansi_c, significance_level=0.05),\n",
        "  runs_above_and_below_mean_test(lcg_randu, significance_level=0.05),\n",
        "  runs_above_and_below_mean_test(uniform, significance_level=0.05),\n",
        "  runs_above_and_below_mean_test(middle_square,significance_level=0.05)\n",
        "]"
      ],
      "execution_count": 0,
      "outputs": [
        {
          "output_type": "stream",
          "text": [
            "-1.285042329781275\n",
            "0.2867907857918171\n",
            "0.8672453161578051\n",
            "-1.1029545737697355\n",
            "-28.868858259554706\n"
          ],
          "name": "stdout"
        }
      ]
    },
    {
      "cell_type": "code",
      "metadata": {
        "id": "UV3sHhJ1P5uJ",
        "colab_type": "code",
        "outputId": "4a1c061b-d5dc-4b87-af34-4c67182b1af8",
        "colab": {
          "base_uri": "https://localhost:8080/",
          "height": 167
        }
      },
      "source": [
        "pd.DataFrame(data=[chi_square_tests, ks_tests, autocorrelation_tests, runs_above_and_below_mean_tests], columns=distributions_to_test, index=tests)"
      ],
      "execution_count": 0,
      "outputs": [
        {
          "output_type": "execute_result",
          "data": {
            "text/html": [
              "<div>\n",
              "<style scoped>\n",
              "    .dataframe tbody tr th:only-of-type {\n",
              "        vertical-align: middle;\n",
              "    }\n",
              "\n",
              "    .dataframe tbody tr th {\n",
              "        vertical-align: top;\n",
              "    }\n",
              "\n",
              "    .dataframe thead th {\n",
              "        text-align: right;\n",
              "    }\n",
              "</style>\n",
              "<table border=\"1\" class=\"dataframe\">\n",
              "  <thead>\n",
              "    <tr style=\"text-align: right;\">\n",
              "      <th></th>\n",
              "      <th>LCG Custom</th>\n",
              "      <th>LCG Randu</th>\n",
              "      <th>LCG Ansi C</th>\n",
              "      <th>Mersenne Twister</th>\n",
              "      <th>Middle Square</th>\n",
              "    </tr>\n",
              "  </thead>\n",
              "  <tbody>\n",
              "    <tr>\n",
              "      <th>Chi Square</th>\n",
              "      <td>True</td>\n",
              "      <td>True</td>\n",
              "      <td>True</td>\n",
              "      <td>True</td>\n",
              "      <td>False</td>\n",
              "    </tr>\n",
              "    <tr>\n",
              "      <th>KS</th>\n",
              "      <td>True</td>\n",
              "      <td>True</td>\n",
              "      <td>True</td>\n",
              "      <td>True</td>\n",
              "      <td>False</td>\n",
              "    </tr>\n",
              "    <tr>\n",
              "      <th>Autocorrelation</th>\n",
              "      <td>True</td>\n",
              "      <td>True</td>\n",
              "      <td>False</td>\n",
              "      <td>True</td>\n",
              "      <td>False</td>\n",
              "    </tr>\n",
              "    <tr>\n",
              "      <th>Runs</th>\n",
              "      <td>True</td>\n",
              "      <td>True</td>\n",
              "      <td>True</td>\n",
              "      <td>True</td>\n",
              "      <td>False</td>\n",
              "    </tr>\n",
              "  </tbody>\n",
              "</table>\n",
              "</div>"
            ],
            "text/plain": [
              "                 LCG Custom  LCG Randu  ...  Mersenne Twister  Middle Square\n",
              "Chi Square             True       True  ...              True          False\n",
              "KS                     True       True  ...              True          False\n",
              "Autocorrelation        True       True  ...              True          False\n",
              "Runs                   True       True  ...              True          False\n",
              "\n",
              "[4 rows x 5 columns]"
            ]
          },
          "metadata": {
            "tags": []
          },
          "execution_count": 35
        }
      ]
    }
  ]
}